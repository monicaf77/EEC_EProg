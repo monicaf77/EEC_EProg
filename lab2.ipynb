{
 "cells": [
  {
   "cell_type": "markdown",
   "metadata": {},
   "source": [
    "![figure](lab2/politecnico_h-01.png)\n",
    "\n",
    "# **Eletrónica Programável**\n",
    "#### Licenciatura em Engenharia Eletrotécnica e de Computadores\n",
    "\n",
    "## Trabalho Laboratorial 2 - Circuitos Combinacionais "
   ]
  },
  {
   "cell_type": "markdown",
   "metadata": {},
   "source": [
    "-----------------------\n"
   ]
  },
  {
   "cell_type": "markdown",
   "metadata": {
    "tags": []
   },
   "source": [
    "## Introdução ##\n",
    "Neste trabalho vamos implementar um conjunto de circuitos eletrónicos combinacionais usando uma descrição comportamental em VHDL, que permite implementar circuitos de média escala usando um nível de abstração superior. Este documento não fornece detalhes de utilização do Vivado. Sempre que tiver dúvidas a este nível, consulte o enunciado do Lab1.\n"
   ]
  },
  {
   "cell_type": "markdown",
   "metadata": {},
   "source": [
    "### Objetivos ###\n",
    "\n",
    "Neste trabalho pretende-se observar como a especificação comportamental pode ser usada para implementar diferentes tipos de circuitos combinacionais de média escala, como somadores, comparadores, descodificadores, multiplexadores e deslocadores. Para tal, propomos para isso a implementação de 3 circuitos combinacionais :\n",
    "* Somador de magnitude com sinal, de 4 bits.\n",
    "* Circuito de deslocamento de 8 bits.\n",
    "* Somador de números definidos em vírgula flutuante.\n"
   ]
  },
  {
   "cell_type": "markdown",
   "metadata": {},
   "source": [
    "Nas instruções abaixo **{sources}** refere-se a `C:\\Xilinx\\EEC_EP\\sources` e **{labs}** refere-se a `(C:\\Xilinx\\EEC_EP\\labs)`\n"
   ]
  },
  {
   "cell_type": "markdown",
   "metadata": {},
   "source": [
    "_______________________"
   ]
  },
  {
   "cell_type": "markdown",
   "metadata": {},
   "source": [
    "## Passo 1 - Somador de magnitude com sinal, de 4 bits ##"
   ]
  },
  {
   "cell_type": "markdown",
   "metadata": {},
   "source": [
    "### Passo 1.1 ### \n",
    "\n",
    "Um sinal inteiro pode ser representado no formato de magnitude com sinal, em que o bit mais significativo (MSB) representa o sinal e os menos significativos representam a magnitude (módulo) do número em representação binária. Por ex., o número +3 é “0011” e -3 fica “1011”.\n",
    "\n",
    "Um somador neste formato realiza as seguintes operações: \n",
    "1) se os operadores têm o mesmo sinal, soma as magnitudes e mantém o sinal; \n",
    "2) se os operadores têm sinais opostos, subtrai o de menor amplitude do maior e mantém o sinal do número maior.\n",
    "\n",
    "Uma possível implementação é dividir o circuito em dois andares. O primeiro distingue o maior do menor e armazena-os em sinais internos **min** e **max**. O segundo andar observa os seus sinais e opera a soma ou subtração das magnitudes. No final sinal é sempre o mesmo do **max**. O código deste circuito é fornecido no ficheiro **sign_mag_add.vhd**.\n",
    "\n",
    "\n",
    "* Comece por descarregar os arquivos fonte fornecidos (Github ou Moodle) e salve-os em `{sources}/lab2`.\n",
    "\n",
    "\n",
    "* Abra o Vivado a partir do icon no ambinete de trabalho ou: `Start > All Programs > Xilinx Design Tools > Vivado 2022.1`. \n",
    "\n",
    "\n",
    "* Selecione **Create Project** para começar o wizard. Na caixa de diálogo *Create A New Vivado Project*, selecione **Next**.\n",
    "\n",
    "\n",
    "* Clique no botão *Procurar* do campo de localização do projeto do novo formulário de projeto, navegue até `c:/Xilinx/EEC_EP/labs` e clique em **Select**. Digite *lab2* no campo de nome do projeto. Certifique-se de que a caixa *Create Project Subdirectory* esteja marcada. Clique em **Next**.\n",
    "\n",
    "\n",
    "* Vamos criar um projeto RTL vazio. Especificaremos as fontes posteriormente. Selecione a opção **RTL Project** no formulário *Project Type* e clique em **Next**. Certifique-se de que a caixa *Do not specify sources at this time* está marcada.\n",
    "\n",
    "\n",
    "* No formulário **Default Part**, selecione a opção *Boards* e escolha a placa **Basys3**. Clique em **Next** e depois em **Finish** para criar o projeto Vivado.\n",
    "\n",
    "\n",
    "* No painel *Sources*, selecione **Add Sources** e siga os passos necessários (*Add or create design sources*) para adicionar o circuito somador fornecido no ficheiro **sign_mag_add.vhd**. \n",
    "\n",
    "\n",
    "* Abra o ficheiro no Vivado, observe o código. Note que como estamos a trabalhar com números, é necessária a biblioteca **ieee.numeric_std.all**. Verifique que o código implementa de facto o algoritmo explicado acima.\n",
    "\n"
   ]
  },
  {
   "cell_type": "markdown",
   "metadata": {},
   "source": [
    "### Passo 1.2 ### \n",
    "\n",
    "Nesta seção, vamos criar um circuito que permitirá visualizar as entradas e saída do circuito somador num único visor de 7 segmentos. O diagrama de blocos deste circuto é apresentado na figura abaixo.\n",
    "\n",
    "\n",
    "<div>\n",
    "<img src=\"lab2/fig1.png\" width=\"500\"/>\n",
    "</div>\n",
    "\n",
    "\n",
    "O circuito tem:\n",
    "* Uma entrada **ain** de 4 bits, que será depois ligada a quatro *switches* (sw(3...0))\n",
    "* Uma entrada **bin** de 4 bits, que será depois ligada a outro conjunto de quatro *switches* (sw(7...4))\n",
    "* Uma entrada  **sel** de 2 bits, que será depois ligada a um conjunto de dois *switches* (sw(14...15))\n",
    "* Uma saída **led0** de 8 bits com o código hexadecimal de **a**, **b** ou **sum**\n",
    "* Uma saída **led1** de 8 bits, para visualização do sinal *menos* no caso de termos números negativos\n",
    "\n",
    "\n",
    "O conjunto de 2 bits de selecção, ligados ao multiplexador, permite visualizar a magnitude de cada um dos números de entrada ou do resultado da soma, no primeiro visor. A saída **led0** representa a magnitude enquanto a saída **led1**  representa o sinal. São também necessários dois descodificadores para transformarem o código binário em código para visores de 7 segmentos. \n",
    "\n",
    "\n",
    "* No painel *Sources*, selecione **Add Sources** e siga os passos necessários para adicionar os seguintes ficheiros fornecidos: **hex_to_sseg.vhd** e **sm_add_test.vhd**. Abra os ficheiros no Vivado, observe o código e verifique que implementa o circuito explicado acima e que o descodificador de binário para 7 segmentos está de acordo com a informação contida na figura abaixo.\n",
    "\n",
    "<div>\n",
    "<img src=\"lab2/fig2.png\" width=\"900\"/>\n",
    "</div>\n",
    "\n",
    "* Adicione o ficheiro de estímulos fornecido **sm_add_test_tb.vhd**. Deve ficar com a seguinte hierarquia de ficheiros na janela *Sources*.\n",
    "\n",
    "<div>\n",
    "<img src=\"lab2/fig5.png\" width=\"800\"/>\n",
    "</div>\n",
    "\n",
    "\n",
    "\n",
    "* Adicione as linhas de código em falta (entre a linha 83 e 90), de forma a que seja possível observar o resultado de simulação da figura. \n",
    "\n",
    "\n",
    "<div>\n",
    "<img src=\"lab2/fig6.png\" width=\"900\"/>\n",
    "</div>\n",
    "\n",
    "\n",
    "* Simule o circuito. Observe os resultados da simulação, também para os sinais internos, e tente compreender o funcionamento do circuito. Note que, na figura acima, o sinal **mout** teve de ser adicionado à janela de ondas (por ser um sinal interno) e que o **Radix** escolhido para os sinais de netrada e saída do somador é **Signed Magitude**.\n",
    "\n",
    "\n",
    "* Consegue explicar os valores que aparecem nas saídas **led0** e **led1**?\n"
   ]
  },
  {
   "cell_type": "markdown",
   "metadata": {},
   "source": [
    "### Passo 1.3 ### \n",
    "\n",
    "Vamos agora implementar o circuito na FPGA, usando a metodologia descrita no Lab1. Para poder visualizar a magnitude ou o sinal num único visor de 7 segmentos, terá de modificar o ficheiro de topo de forma a introduzir um multiplexador nas saídas **led0** e **led1**. A escolha da saída led0 ou led1 deve ser feita com um segundo botão (BTN), como se representa na figura. \n",
    "\n",
    "<div>\n",
    "<img src=\"lab2/fig3.png\" width=\"600\"/>\n",
    "</div>\n",
    "\n",
    "\n",
    "* Altere o ficheiro **sm_add_test.vhd** para incluir o multiplexador de saída (com respectivas entrada e saída) e também uma saída **an** de 4 bits que permita habilitar apenas um dos 4 visores de 7 segmentos.\n",
    "\n",
    "\n",
    "* Escolha a operação *Open Elaborated Design* e abra o esquemático correspondente a este circuito. Deve ter algo como se mostra na figura.\n",
    "\n",
    "<div>\n",
    "<img src=\"lab2/fig7.png\" width=\"900\"/>\n",
    "</div>\n",
    "\n",
    "\n",
    "* Feche a vista *Elaborated Design* na barra azul.\n",
    "\n",
    "\n",
    "* Adicione o ficheiro (*Constraints file*) fornecido **basys3_master.xdc**. Faça as alterações necessárias para atribuir as entradas e saídas do circuito aos pinos adequados da placa **Basys3**. Note que vai precisar de 10 *switches*, um botão, todos os leds do visor de 7 segmentos e a saída de ativação dos cátodos.\n",
    "\n",
    "\n",
    "<div class=\"alert alert-block alert-danger\">\n",
    "<b>Nota:</b> Um visor de 7 segmentos tem 7 barras de led e um led redondo, que corresponde ao ponto. Tenha em atenção que, no ficheiro \"hex_to_sseg.vhd\", o bit mais significativo do barramento corresponde ao ponto do visor. O bit mais significativo seguinte corresponde ao segmento CA. Note também que, no ficheiro XDC, os pinos que correspondem às 7 barras de led estão definidos nas linhas 50 (sseg(6)) a 56 (sseg(0)). O ponto está definido na linha 58: #set_property -dict { PACKAGE_PIN V7   IOSTANDARD LVCMOS33 } [get_ports dp]\n",
    "</div>\n",
    "\n",
    "\n",
    "* Só falta agora correr os processos de síntese, implementação e geração de *bitstream*. Faça duplo clique em **Generate Bitstream** e todos os processos necessários serão efectuados.\n",
    "\n",
    "\n",
    "* Ligue a placa ao PC usando o cabo USB e programe a placa. Verifique o funcionamento do circuito. Teste, por exemplo, as quatro operações seguintes:\n",
    "\n",
    "$$2+3=5     \\; \\; \\;\\;\\; \\; \\;\\;    2-3=-1     \\; \\; \\;\\;\\; \\; \\;\\;     -4+2=-2    \\; \\; \\;\\;\\; \\; \\;\\;     -4-2=-6$$\n",
    "\n",
    "\n",
    "* Feche a vista *Hardware Manager* na faixa azul e desligue a Basys3 no interruptor da placa."
   ]
  },
  {
   "cell_type": "markdown",
   "metadata": {},
   "source": [
    "______"
   ]
  },
  {
   "cell_type": "markdown",
   "metadata": {},
   "source": [
    "## Passo 2 - Circuito de deslocamento de 8 bits ##"
   ]
  },
  {
   "cell_type": "markdown",
   "metadata": {},
   "source": [
    "### Passo 2.1 ### \n",
    "\n",
    "Pretende-se agora implementar um circuito que permita deslocar à direita um número arbitrário de bits, a partir de um vetor de 8 bits de entrada (**a**). Uma entrada de controlo de 3 bits (**amt**) especifica o número de bits a serem deslocados. \n",
    "\n",
    "* Adicione o ficheiro **barrel_shifter.vhd** ao projeto Vivado (*Add or create design sources*). Abra o ficheiro e observe o código.\n",
    "\n",
    "\n",
    "* Note que foram especificados duas arquiteturas, i.e., duas formas de implementar este circuito. Observe a arquitectura **sel_arch**. Aqui é utilizada uma expressão seletiva para listar todas as possíveis combinações em **amt** e os respetivos deslocamentos. No entanto, esta não é a forma mais desejável por duas razões: \n",
    "    \n",
    "    1) para um maior número de bits, o código torna-se demasiadamente exaustivo; \n",
    "    \n",
    "    2) um elevado número de escolhas na estrutura select leva à implementação de um multiplexador muito grande, o que leva a atrasos consideráveis. \n",
    "\n",
    "\n",
    "* Observe agora a arquitectura **mult_stage_arch**. Aqui é definida uma forma mais eficiente e escalável de implementar este circuito. Note que se trata de uma implementação por andares - o andar **n** é controlado pelo bit **n** da palavra **amt**. Sendo $m_2$ $m_1$ $m_0$ os bits de **amt**, o vetor de entrada é deslocado de $m_2 . 2^2 + m_1 . 2^1 + m_0 . 2^0$ depois de passar pelos três andares. \n",
    "\n",
    "\n",
    "* Na janela *Sources > Design Sources*, selecione a fonte **barrel_shifter.vhd** com a arquitetura **multi_stage_arch**. Clique sobre ela com o botão direito do rato e selecione **Set as Top**.\n",
    "\n",
    "\n",
    "* Adicione o template fornecido do ficheiro de simulação **barrel_shifter_tb.vhd**. Complete o ficheiro de forma a que seja possível verificar o funcionamento do circuito. \n",
    "\n",
    "\n",
    "* Na janela *Sources > Simulation Sources*, selecione a fonte **barrel_shifter_tb.vhd** , clique sobre ela com o botão direito do rato e selecione **Set as Top**. Deve ter a seguinte hierarquia de fontes.\n",
    "\n",
    "\n",
    "<div>\n",
    "<img src=\"lab2/fig8.png\" width=\"800\"/>\n",
    "</div>\n",
    "\n",
    "\n",
    "\n",
    "* Analise os resultados da simulação. Mude o **Radix** para binário para ser mais fácil observar a rotação dos bits. \n",
    "\n",
    "\n",
    "* Feche a vista *Simulation* na barra azul.\n"
   ]
  },
  {
   "cell_type": "markdown",
   "metadata": {},
   "source": [
    "### Passo 2.2 ### \n",
    "\n",
    "Neste passo vamos implementar este circuito de deslocamentos na FPGA.\n",
    "\n",
    "\n",
    "\n",
    "* Altere o ficheiro **basys3_master.xdc** para ficar de acordo com os requisitos deste circuito. Comente as linhas dos pinos que não são necessários e altere o nome dos pinos de entradas e saída deste circuito. Use *switches* para as entradas **a** e **amt** e leds para a saída **y**. Faça **Save**. Deve ter algo como mostra a figura:\n",
    "\n",
    "\n",
    "<div>\n",
    "<img src=\"lab2/fig9.png\" width=\"900\"/>\n",
    "</div>\n",
    "\n",
    "\n",
    "* Só falta agora correr os processos de síntese, implementação e geração de *bitstream*. Faça duplo clique em **Generate Bitstream** e todos os processos necessários serão efectuados.\n",
    "\n",
    "\n",
    "* Ligue a placa ao PC usando o cabo USB e programe a placa. Verifique o funcionamento do circuito.\n",
    "\n",
    "\n",
    "* Feche a vista *Hardware Manager* na faixa azul e desligue a Basys3 no interruptor da placa.\n"
   ]
  },
  {
   "cell_type": "markdown",
   "metadata": {},
   "source": [
    "______________"
   ]
  },
  {
   "cell_type": "markdown",
   "metadata": {},
   "source": [
    "## Passo 3 - Somador de números definidos em vírgula flutuante ##"
   ]
  },
  {
   "cell_type": "markdown",
   "metadata": {},
   "source": [
    "### Passo 3.1 ### \n",
    "\n",
    "Um número definido em vírgula flutuante tem uma gama muito superior à de um número inteiro, para o mesmo número de bits. Apesar de o VHDL possuir a definição de dados em vírgula flutuante, ela é demasiadamente complexa para ser sintetizada automaticamente pela maioria das ferramentas. \n",
    "\n",
    "Neste exemplo vamos utilizar uma representação de 13 bits, em que o valor de um número é representado por $(-1)^S . F . 2^E$\n",
    "\n",
    "sendo: \n",
    "* 1 bit para o sinal **S**, que é ‘1’ quando o número é negativo;\n",
    "* 4 bits para o expoente **E**, no formato unsigned; \n",
    "* 8 bits para a fração **F**, no formato unsigned; \n",
    "\n",
    "\n",
    "Vamos ainda considerar que a representação é normalizada ou então zero. Uma representação é normalizada quando o MSB de **F** vale ‘1’. Se a magnitude do resultado é menor do que o menor valor normalizado $0.10000000 . 2^{0000}$, então tem de ser convertido em zero. Assim, a gama da representação é de aproximadamente $2^{16}$, sendo $0.11111111 . 2^{1111}$ o número maior que se pode representar.\n",
    "\n",
    "\n",
    "O processo de soma de números definidos em vírgula flutuante segue o mesmo processo da adição manual. Na figura representa-se a adição com números decimais, para facilitar a explicação. Ela segue 4 passos fundamentais: \n",
    "\n",
    "1) **sort** – colocar o número maior em cima e o menor em baixo; \n",
    "\n",
    "2) **align** – atribuir o mesmo expoente aos dois números, ajustando o do menor até que fique igual ao do maior e deslocando a fração o mesmo número de casas que a diferença de expoentes; \n",
    "\n",
    "3) **add/sub** – somar ou subtrair os dois operandos; \n",
    "\n",
    "4) **normalize** – ajustar o resultado ao formato normalizado.\n",
    "\n",
    "\n",
    "<div>\n",
    "<img src=\"lab2/fig4.png\" width=\"500\"/>\n",
    "</div>\n",
    "\n",
    "\n",
    "O circuito fornecido segue um algoritmo semelhante com 4 fases. Para simplificar, não são implementados arredondamentos, ou seja, os valores deslocados nas operações de alinhamento e normalização são simplesmente eliminados. \n",
    "\n",
    "\n",
    "* Adicione o ficheiro fornecido **fp_adder.vhd**, que implementa este circuito. Abra o código e observe como as diversas operações foram implementadas.\n",
    "\n",
    "\n",
    "* Adicione o ficheiro fornecido **fp_adder_test.vhd** que adiciona alguma lógica adicional para pder observar o funcionamento do circuito na placa. \n",
    "\n",
    "\n",
    "* Na janela *Sources*, clique sobre este último ficheiro com o botão direito do rato e escolha **Set as Top**.\n",
    "\n",
    "\n",
    "* Altere o ficheiro **basys3_master.xdc** para ficar de acordo com os requisitos deste circuito. Comente as linhas dos pinos que não são necessários e altere o nome dos pinos de entradas e saída deste circuito. Use os 16 *switches*, dois botões e os 16 leds para a saída. Faça **Save**. \n",
    "\n",
    "\n",
    "* Só falta agora correr os processos de síntese, implementação e geração de *bitstream*. Faça duplo clique em **Generate Bitstream** e todos os processos necessários serão efectuados.\n",
    "\n",
    "\n",
    "* Ligue a placa ao PC usando o cabo USB e programe a placa. Verifique o funcionamento do circuito, tal como mostraa figura.\n",
    "\n",
    "<div>\n",
    "<img src=\"lab2/fig10.png\" width=\"900\"/>\n",
    "</div>\n",
    "\n",
    "\n",
    "* Feche a vista *Hardware Manager* na faixa azul e desligue a Basys3 no interruptor da placa.\n",
    "\n"
   ]
  },
  {
   "cell_type": "markdown",
   "metadata": {},
   "source": [
    "_________"
   ]
  },
  {
   "cell_type": "markdown",
   "metadata": {},
   "source": [
    "## Desafio ##"
   ]
  },
  {
   "cell_type": "markdown",
   "metadata": {},
   "source": [
    "Desenhe um circuito que permita multiplicar dois numeros de 4 bits (representados em sinal e magnitude). Note que uma multiplicação de dois números pode ser decomposta numa série de somas de números deslocados. Po exemplo:

$$ 6 x 3 = (4 + 2) x 3 = (4 x 3) + (2 x 3 ) = (2^2 x 3) + (2^1 x 3 ) = $$

=(número '3' deslocado 2 posições à esquerda) + (número '3' deslocado 1 posição à esquerda)\n",
    "\n",
    "\n"
   ]
  }
 ],
 "metadata": {
  "kernelspec": {
   "display_name": "Python 2",
   "language": "python",
   "name": "python2"
  },
  "language_info": {
   "codemirror_mode": {
    "name": "ipython",
    "version": 2
   },
   "file_extension": ".py",
   "mimetype": "text/x-python",
   "name": "python",
   "nbconvert_exporter": "python",
   "pygments_lexer": "ipython2",
   "version": "2.7.16"
  }
 },
 "nbformat": 4,
 "nbformat_minor": 5
}
