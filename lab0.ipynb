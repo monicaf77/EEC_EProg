{
 "cells": [
  {
   "cell_type": "markdown",
   "metadata": {},
   "source": [
    "![figure](lab0/politecnico_h-01.png)\n",
    "\n",
    "# **Eletrónica Programável**\n",
    "#### Licenciatura em Engenharia Eletrotécnica e de Computadores\n",
    "\n",
    "## Instalação do Vivado"
   ]
  },
  {
   "cell_type": "markdown",
   "metadata": {},
   "source": [
    "-------------------"
   ]
  },
  {
   "cell_type": "markdown",
   "metadata": {},
   "source": [
    "Este guia descreve o processo de instalação e configuração do Vivado, com os requisitos mínimos para a utilização nas aulas de Eletrónica Programável. Tenha em atenção todos os procedimentos aqui descritos, uma vez que a instalação total da ferramenta pode acupar até 100GB no seu disco. O **Xilinx Unified Installer** pode ser usado para instalar uma variedade de diferentes ferramentas Xilinx, mas vamos usa-la para instalar apenas o Vivado e com suporte apenas das FPGAs da série 7 (o que poupará imenso espaço do seu disco)."
   ]
  },
  {
   "cell_type": "markdown",
   "metadata": {},
   "source": [
    "1. Abra a página de downloads do Xilinx em **https://www.xilinx.com/support/download.html**. Encontre a seção da página intitulada *Vivado ML Edition - Version 2022.1*. Poderá escolher uma versão mais recente mas nunca é boa ideia usar a últma versão (há pouco suporte para eventuais bugs). Verifique também se a versão que está a instalar é compatível com a sua versão de sistema operativo (windows/linux).\n",
    "\n",
    "2. Selecione o download *Self Extracting Web Installer* para o seu sistema operativo. Siga as instruções para entrar ou criar uma conta no site da Xilinx (o registo no site é gratuito mas obrigatório). Uma vez conectado, o seu browser vai iniciar o download do instalador, que deverá ser depois executado.\n",
    "\n",
    "3. Na janela de boas-vindas, certifique-se de que o sistema operactivo do seu computador está na lista de compatibilidade e clique em **Next**.\n",
    "\n",
    "4. Use as credenciais de login do site Xilinx para autenticação do utilizador. Selecione a opção *Download and Install Now* e clique em **Next**.\n",
    "\n",
    "5. Na janela *Select Product to Install*, diversas opções são apresentadas. Selecione a opção **Vivado** para instalar o Vivado Design Suite. Selecionar o Vivado não fornecerá todas as ferramentas necessárias.\n",
    "\n",
    "6. Para correr o instalador:\n",
    "\n",
    "    **Em Windows:** Use o *Windows Explorer* para encontrar o instalador na sua diretoria de downloads. Faça duplo clique para correr o executável\n",
    "\n",
    "    **Em Linux:** Use um terminal para navegar até à diretoria onde está o instalador e digite o comando `chmod +x <installer>.bin && sudo ./<installer>.bin`, com o nome correto do instalador.\n",
    "    "
   ]
  },
  {
   "cell_type": "markdown",
   "metadata": {},
   "source": [
    "7. Na janela de boas-vindas, certifique-se de que o sistema operativo do computador esá listado na lista de compatibilidade e clique em **Next**.\n",
    "\n",
    "8. Use as suas credenciais de login do site Xilinx para autenticação do utilizador. Selecione a opção: *Download and Install Now* e clique em **Next**.\n",
    "\n",
    "![figure](lab0/fig1.png)"
   ]
  },
  {
   "cell_type": "markdown",
   "metadata": {},
   "source": [
    "9. Na janela *Select Product to Install*, são apresentadas diversas opções. Selecione a opção **Vivado Design Suite**, que é o suficiente para esta Unidade Curricular.\n",
    "\n",
    "![figure](lab0/fig2.png)"
   ]
  },
  {
   "cell_type": "markdown",
   "metadata": {},
   "source": [
    "10. A próxima janela, oferece opções mais detalhadas para a personalização da instalação. A maioria dessas opções não precisa ser alterada para uma instalação básica, mas os recursos desnecessários podem ser removidos para reduzir o espaço ocupado pela instalação. As opções importantes para esta UC estão patentes na proxima figura. Confirme as seleções e clique em **Next**.\n",
    "\n",
    "![figure](lab0/fig3.png)"
   ]
  },
  {
   "cell_type": "markdown",
   "metadata": {},
   "source": [
    "11. Leia e aceite todos os contratos de licença e clique em **Next**.\n",
    "\n",
    "12. Escolha a diretoria de destino e clique em **Next**.\n",
    "\n",
    "13. Reveja o *Installation Summary* e clique em **Install**. O processo de instalação pode demorar um bastante! \n",
    "\n",
    "14. Assim que o processo esteja concluído, pode abrir o Vivado através do menu iniciar ou atalho na área de trabalho criado durante o processo de instalação."
   ]
  },
  {
   "cell_type": "markdown",
   "metadata": {},
   "source": [
    "### Install Cable Drivers (Linux Only)"
   ]
  },
  {
   "cell_type": "markdown",
   "metadata": {},
   "source": [
    "O *Xilinx Unified Installer* não instala os drivers USB necessários para reconhecer a placa de desenvolvimento num sistema Linux. Como tal, deve ser feito manualmente após a instalação das ferramentas. Para instalar os drivers veja as instruções em: https://digilent.com/reference/programmable-logic/guides/installing-vivado-and-vitis"
   ]
  },
  {
   "cell_type": "markdown",
   "metadata": {},
   "source": [
    "### Install Digilent's Board Files"
   ]
  },
  {
   "cell_type": "markdown",
   "metadata": {},
   "source": [
    "O suporte de placa para a Basys 3 não está incluído no Vivado por omissão, mas é fornecido pela Digilent (fabricante da placa de desenvolvimento). Estes ficheiros (board support package (BSP)) facilitam a seleção da FPGA correta ao criar um novo projeto e permitem a configuração automatizada de vários componentes internos e pinos de entrada/saída.\n",
    "\n",
    "Para verificar se a sua instalação já contém o BSP da placa que vamos usar (Basys3):\n",
    "\n",
    "1. Navegue pela pasta de instalação do Vivado no seu computador até `{Vivado installation}\\data\\boards\\board_files\\` e verifique se está lá uma basta de nome **basys3**.\n",
    "\n",
    "2. Se a pasta não existir terá de efetuar os passos seguintes. \n",
    "\n",
    "Pode encontrar o arquivo ZIP que contém os ficheiros de suporte de várias placas da Digilent em https://github.com/Digilent/vivado-boards/archive/master.zip).\n",
    "\n",
    "1. Abra o arquivo ZIP, navegue até **vivado-boards-master.zip\\vivado-boards-master\\new\\board_files**\n",
    "\n",
    "2. Copie a pasta **basys3** para a pasta de instalação do Vivado no seu computador `{Vivado installation}\\data\\boards\\board_files\\` **OU** copie a pasta **board_files\\basys3** para a pasta de instalação do Vivado no seu computador `{Vivado installation}\\data\\boards\\`. \n",
    "\n",
    "Nota: Nos computadores do laboratório este procedimento já foi realizado - pode confirmar que a pasta **basys3** se encontra no local indicado."
   ]
  }
 ],
 "metadata": {
  "kernelspec": {
   "display_name": "Python 2",
   "language": "python",
   "name": "python2"
  },
  "language_info": {
   "codemirror_mode": {
    "name": "ipython",
    "version": 2
   },
   "file_extension": ".py",
   "mimetype": "text/x-python",
   "name": "python",
   "nbconvert_exporter": "python",
   "pygments_lexer": "ipython2",
   "version": "2.7.16"
  }
 },
 "nbformat": 4,
 "nbformat_minor": 5
}
