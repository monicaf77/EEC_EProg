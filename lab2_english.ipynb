{
 "cells": [
  {
   "cell_type": "markdown",
   "id": "f2c56495",
   "metadata": {},
   "source": [
    "![figure](lab2/politecnico_h-01.png)\n",
    "\n",
    "# **Programmable Electronics**\n",
    "#### Bachelor's Degree in Electrical and Computer Engineering\n",
    "\n",
    "## Laboratory Work 2 - Combinational Circuits "
   ]
  },
  {
   "cell_type": "markdown",
   "id": "5c6868ed",
   "metadata": {},
   "source": [
    "-----------------------\n"
   ]
  },
  {
   "cell_type": "markdown",
   "id": "0c6c8187",
   "metadata": {
    "tags": []
   },
   "source": [
    "## Introduction ##\n",
    "In this work we will implement a set of combinational electronic circuits using a behavioral description in VHDL, which allows implementing medium-scale circuits using a higher level of abstraction. This document does not provide details on how to use Vivado. Whenever you have questions at this level, consult the Lab1 statement.\n"
   ]
  },
  {
   "cell_type": "markdown",
   "id": "4b77f851",
   "metadata": {},
   "source": [
    "### Objectives ###\n",
    "\n",
    "In this work we intend to observe how the behavioral specification can be used to implement different types of medium-scale combinational circuits, such as adders, comparators, decoders, multiplexers and shifters. To this end, we propose the implementation of 3 combinational circuits:\n",
    "\n",
    "* 4-bit signed magnitude adder.\n",
    "* 8-bit shift circuit.\n",
    "* Adder of numbers defined in floating point.\n"
   ]
  },
  {
   "cell_type": "markdown",
   "id": "e50d108c",
   "metadata": {},
   "source": [
    "In the instructions below **{sources}** refers to `C:\\Xilinx\\EEC_EP\\sources` and **{labs}** refers to `(C:\\Xilinx\\EEC_EP\\labs)`\n"
   ]
  },
  {
   "cell_type": "markdown",
   "id": "46f7bbc0",
   "metadata": {},
   "source": [
    "_______________________"
   ]
  },
  {
   "cell_type": "markdown",
   "id": "e22bdf4e",
   "metadata": {},
   "source": [
    "## Step 1 - 4-bit signed magnitude adder ##"
   ]
  },
  {
   "cell_type": "markdown",
   "id": "64b865e4",
   "metadata": {},
   "source": [
    "### Step 1.1 ### \n",
    "\n",
    "An integer signal can be represented in signed magnitude format, where the most significant bit (MSB) represents the sign and the least significant bits represent the magnitude (modulus) of the number in binary representation. For example, the number +3 is “0011” and -3 is “1011”.\n",
    "\n",
    "An adder in this format performs the following operations: \n",
    "1) if the operators have the same sign, add the magnitudes and keep the sign; \n",
    "2) If the operators have opposite signs, subtract the one with the smaller amplitude from the larger one and keep the sign of the larger number.\n",
    "\n",
    "One possible implementation is to divide the circuit into two stages. The first stage distinguishes the larger from the smaller and stores them in internal signals **min** and **max**. The second stage observes their signs and operates the addition or subtraction of the magnitudes. In the end the sign is always the same as **max**. The code for this circuit is provided in the file **sign_mag_add.vhd** .\n",
    "\n",
    "\n",
    "* Start by downloading the provided source files (Github or Moodle) and saving them in `{sources}/lab2`.\n",
    "\n",
    "\n",
    "* Open Vivado from the icon on your desktop or: `Start > All Programs > Xilinx Design Tools > Vivado 2022.1`. \n",
    "\n",
    "\n",
    "* Select **Create Project** to start the wizard. In the *Create A New Vivado Project* dialog box , select **Next**.\n",
    "\n",
    "\n",
    "* Click the *Browse* button in the project location field of the new project form, navigate to `c:/Xilinx/EEC_EP/labs` and click **Select**. Type *lab2* in the project name field. Make sure the *Create Project Subdirectory* box is checked. Click **Next**.\n",
    "\n",
    "\n",
    "* Let's create an empty RTL project. We'll specify the sources later. Select the *RTL Project* option in the *Project Type* form and click **Next**. Make sure the *Do not specify sources at this time* box is checked.\n",
    "\n",
    "\n",
    "* In the *Default Part form*, select the *Boards* option and choose the **Basys3 board**. Click **Next** and then **Finish** to create the Vivado project.\n",
    "\n",
    "\n",
    "* In the *Sources* panel , select **Add Sources** and follow the necessary steps (*Add or create design sources*) to add the adder circuit provided in the **sign_mag_add.vhd** file. \n",
    "\n",
    "\n",
    "* Open the file in Vivado and take a look at the code. Note that since we are working with numbers, the **ieee.numeric_std.all** library is required. Check that the code actually implements the algorithm explained above.\n",
    "\n"
   ]
  },
  {
   "cell_type": "markdown",
   "id": "fd9bc794",
   "metadata": {},
   "source": [
    "### Step 1.2 ### \n",
    "\n",
    "In this section, we will create a circuit that will allow us to view the inputs and outputs of the adder circuit on a single 7-segment display. The block diagram of this circuit is shown in the figure below.\n",
    "\n",
    "\n",
    "<div>\n",
    "<img src=\"lab2/fig1.png\" width=\"500\"/>\n",
    "</div>\n",
    "\n",
    "\n",
    "The circuit has:\n",
    "* A 4-bit **ain** input , which will then be connected to four switches (sw(3...0))\n",
    "* A 4-bit **bin** input , which will then be connected to another set of four switches (sw(7...4))\n",
    "* A 2-bit **sel** input , which will then be connected to a set of two switches (sw(14...15))\n",
    "* An 8-bit **led0** output with the hexadecimal code of *a* , *b* or *sum*\n",
    "* An 8-bit **lED1** output , to display the *minus* sign in the case of negative numbers\n",
    "\n",
    "\n",
    "The set of 2 selection bits, connected to the multiplexer, allows the magnitude of each of the input numbers or the result of the sum to be displayed on the first display. The **lED0** output represents the magnitude while the **lED1** output represents the signal. Two decoders are also needed to transform the binary code into code for 7-segment displays. \n",
    "\n",
    "\n",
    "* In the Sources pane , select **Add Sources** and follow the steps to add the following provided files: **hex_to_sseg.vhd** and **sm_add_test.vhd**. Open the files in Vivado, look at the code, and verify that it implements the circuit explained above and that the binary-to-7-segment decoder matches the information in the figure below.\n",
    "\n",
    "<div>\n",
    "<img src=\"lab2/fig2.png\" width=\"900\"/>\n",
    "</div>\n",
    "\n",
    "* Add the provided stimulus file **sm_add_test_tb.vhd**. You should have the following file hierarchy in the *Sources* window.\n",
    "\n",
    "<div>\n",
    "<img src=\"lab2/fig5.png\" width=\"800\"/>\n",
    "</div>\n",
    "\n",
    "\n",
    "\n",
    "* Add the missing lines of code (between line 83 and 90) so that you can see the simulation result in the figure. \n",
    "\n",
    "\n",
    "<div>\n",
    "<img src=\"lab2/fig6.png\" width=\"900\"/>\n",
    "</div>\n",
    "\n",
    "\n",
    "* Simulate the circuit. Observe the simulation results, also for the internal signals, and try to understand how the circuit works. Note that, in the figure above, the **mout** signal had to be added to the waveform window (since it is an internal signal) and that the **Radix** chosen for the adder's net input and output signals is **Signed Magitude**. \n",
    "\n",
    "\n",
    "* Can you explain the values that appear at the **led0** and **led1** outputs ?\n"
   ]
  },
  {
   "cell_type": "markdown",
   "id": "e738b531",
   "metadata": {},
   "source": [
    "### Step 1.3 ### \n",
    "\n",
    "We will now implement the circuit on the FPGA, using the methodology described in Lab1. In order to display the magnitude or signal on a single 7-segment display, we will need to modify the top file to introduce a multiplexer on the **led0** and **led1** outputs . The selection of the led0 or led1 output must be made with a second button (BTN), as shown in the figure. \n",
    "\n",
    "<div>\n",
    "<img src=\"lab2/fig3.png\" width=\"600\"/>\n",
    "</div>\n",
    "\n",
    "\n",
    "* Modify the **sm_add_test.vhd** file to include the output multiplexer (with its input and output) and also a 4-bit **an** output that allows enabling only one of the four 7-segment displays.\n",
    "\n",
    "\n",
    "* Choose the *Open Elaborated Design* operation and open the schematic corresponding to this circuit. It should look something like the one shown in the figure.\n",
    "\n",
    "<div>\n",
    "<img src=\"lab2/fig7.png\" width=\"900\"/>\n",
    "</div>\n",
    "\n",
    "\n",
    "* Close the *Elaborated Design* view in the blue bar.\n",
    "\n",
    "\n",
    "* Add the provided file (*Constraints file*) **basys3_master.xdc**. Make the necessary changes to assign the inputs and outputs of the circuit to the appropriate pins on the **Basys3** board . Note that you will need 10 switches , one button, all the LEDs of the 7-segment display and the cathode enable output.\n",
    "\n",
    "\n",
    "<div class=\"alert alert-block alert-danger\">\n",
    "<b>Note:</b> A 7-segment display has 7 LED bars and a round LED, which corresponds to the dot. Note that in the \"hex_to_sseg.vhd\" file, the most significant bit of the bus corresponds to the display dot. The next most significant bit corresponds to the CA segment. Also note that in the XDC file, the pins corresponding to the 7 LED bars are defined on lines 50 (sseg(6)) to 56 (sseg(0)). The dot is defined on line 58: #set_property -dict { PACKAGE_PIN V7 IOSTANDARD LVCMOS33 } [get_ports dp]\n",
    "</div>\n",
    "\n",
    "\n",
    "* Now all that's left is to run the synthesis, implementation and bitstream generation processes. Double-click on *Generate Bitstream* and all the necessary processes will be carried out.\n",
    "\n",
    "* Connect the board to the PC using the USB cable and program the board. Check that the circuit is working properly. For example, test the following four operations:\n",
    "\n",
    "$$2+3=5     \\; \\; \\;\\;\\; \\; \\;\\;    2-3=-1     \\; \\; \\;\\;\\; \\; \\;\\;     -4+2=-2    \\; \\; \\;\\;\\; \\; \\;\\;     -4-2=-6$$\n",
    "\n",
    "\n",
    "* Close the *Hardware Manager* view in the blue ribbon and turn off the Basys3 using the on-board power switch."
   ]
  },
  {
   "cell_type": "markdown",
   "id": "de2616c6",
   "metadata": {},
   "source": [
    "______"
   ]
  },
  {
   "cell_type": "markdown",
   "id": "84bc4dbb",
   "metadata": {},
   "source": [
    "## Step 2 - 8-bit shift register circuit ##"
   ]
  },
  {
   "cell_type": "markdown",
   "id": "1215d153",
   "metadata": {},
   "source": [
    "### Step 2.1 ### \n",
    "\n",
    "We now want to implement a circuit that allows an arbitrary number of bits to be shifted to the right, starting from an 8-bit input vector (**a**). A 3-bit control input (**amt**) specifies the number of bits to be shifted. \n",
    "\n",
    "* Add the **barrel_shifter.vhd** file to the Vivado project (*Add or create design sources*). Open the file and look at the code.\n",
    "\n",
    "\n",
    "* Note that two architectures, i.e. two ways of implementing this circuit, have been specified. Consider the **sel_arch** architecture. Here a selection expression is used to list all possible combinations of **amt** and their offsets. However, this is not the most desirable approach for two reasons:\n",
    "    \n",
    "    1) for a larger number of bits, the code becomes too exhaustive;\n",
    "\n",
    "    2) a high number of choices in the select structure leads to the implementation of a very large multiplexer, which leads to considerable delays. \n",
    "\n",
    "\n",
    "* Now look at the **mult_stage_arch** architecture. Here we define a more efficient and scalable way to implement this circuit. Note that this is a stage-by-stage implementation - stage **n** is controlled by bit  **n** of the word **amt**. If the $m_2$ $m_1$ $m_0$ are the bits of **amt**, the input vector is shifted by $m_2 . 2^2 + m_1 . 2^1 + m_0 . 2^0$ after passing through the three stages. \n",
    "\n",
    "\n",
    "* In the *Sources > Design Sources window*, select the **barrel_shifter.vhd** source with the **multi_stage_arch** architecture . Right-click it and select **Set as Top**.\n",
    "\n",
    "\n",
    "* Add the provided template from the **barrel_shifter_tb.vhd** simulation file. Complete the file so that you can verify that the circuit is working properly. \n",
    "\n",
    "\n",
    "* In the *Sources > Simulation Sources* window, select the **barrel_shifter_tb.vhd** source, right-click it, and select **Set as Top**. You should have the following source hierarchy:\n",
    "\n",
    "\n",
    "<div>\n",
    "<img src=\"lab2/fig8.png\" width=\"800\"/>\n",
    "</div>\n",
    "\n",
    "\n",
    "\n",
    "* Analyze the simulation results. Change the **Radix** to binary to make it easier to observe the bit rotation.\n",
    "\n",
    "* Close the *Simulation view* in the blue bar."
   ]
  },
  {
   "cell_type": "markdown",
   "id": "c8931845",
   "metadata": {},
   "source": [
    "### Step 2.2 ### \n",
    "\n",
    "In this step we will implement this displacement circuit in the FPGA.\n",
    "\n",
    "\n",
    "\n",
    "* Modify the **basys3_master.xdc** file to suit the requirements of this circuit. Comment out the lines of the pins that are not needed and rename the input and output pins of this circuit. Use switches for the **a** and **amt** inputs and LEDs for the **y** output. Save it. You should have something like the figure below:\n",
    "\n",
    "\n",
    "<div>\n",
    "<img src=\"lab2/fig9.png\" width=\"900\"/>\n",
    "</div>\n",
    "\n",
    "\n",
    "* Now all that's left is to run the synthesis, implementation and bitstream generation processes. Double-click on *Generate Bitstream* and all the necessary processes will be carried out.\n",
    "\n",
    "* Connect the board to the PC using the USB cable and program the board. Check the circuit is working.\n",
    "\n",
    "* Close the *Hardware Manager* view in the blue ribbon and turn off the Basys3 using the on-board power switch.\n"
   ]
  },
  {
   "cell_type": "markdown",
   "id": "f766be8e",
   "metadata": {},
   "source": [
    "______________"
   ]
  },
  {
   "cell_type": "markdown",
   "id": "b592b55a",
   "metadata": {},
   "source": [
    "## Step 3 - Floating point numbers adder ##"
   ]
  },
  {
   "cell_type": "markdown",
   "id": "7d139edc",
   "metadata": {},
   "source": [
    "### Step 3.1 ### \n",
    "\n",
    "A floating-point number has a much larger range than an integer for the same number of bits. Although VHDL has a floating-point data definition, it is too complex to be automatically synthesized by most tools.\n",
    "\n",
    "In this example we will use a 13-bit representation, in which the value of a number is represented by $(-1)^S . F . 2^E$\n",
    "\n",
    "being: \n",
    "* 1 bit **S** for the signal, which is '1' when the number is negative;\n",
    "* 4 bits **E** for the exponent,  in unsigned format; \n",
    "* 8 bits **F** for the fraction, in unsigned format;  \n",
    "\n",
    "\n",
    "Let us also consider that the representation is normalized or zero. A representation is normalized when the MSB of **F** is '1'. If the magnitude of the result is less than the smallest normalized value  $0.10000000 . 2^{0000}$,  then it has to be converted to zero. Thus, the range of the representation is approximately $2^{16}$, being $0.11111111 . 2^{1111}$ the largest number that can be represented.\n",
    "\n",
    "\n",
    "The process of adding numbers defined in floating point follows the same process as manual addition. The figure represents addition with decimal numbers, to facilitate the explanation. It follows 4 fundamental steps: \n",
    "\n",
    "1) **sort** – put the biggest number on top and the smallest on the bottom;\n",
    "\n",
    "2) **align** – assign the same exponent to both numbers, adjusting the smaller one until it is equal to the larger one and moving the fraction the same number of places as the difference in exponents;\n",
    "\n",
    "3) **add/sub** – add or subtract the two operands;\n",
    "\n",
    "4) **normalize** – adjust the result to the normalized format.\n",
    "\n",
    "\n",
    "<div>\n",
    "<img src=\"lab2/fig4.png\" width=\"500\"/>\n",
    "</div>\n",
    "\n",
    "\n",
    "The given circuit follows a similar algorithm with 4 phases. For simplicity, no rounding is implemented, i.e. the values ​​shifted in the alignment and normalization operations are simply eliminated. \n",
    "\n",
    "\n",
    "* Add the provided file **fp_adder.vhd**, which implements this circuit. Open the code and observe how the various operations have been implemented.\n",
    "\n",
    "\n",
    "* Add the provided file **fp_adder_test.vhd** which adds some additional logic to be able to observe the operation of the circuit on the board. \n",
    "\n",
    "\n",
    "* In the *Sources* window , right-click on this last file and choose **Set as Top**.\n",
    "\n",
    "\n",
    "* Modify the **basys3_master.xdc** file to suit the requirements of this circuit. Comment out the lines of the pins that are not needed and rename the input and output pins of this circuit. Use the 16 switches, two buttons and the 16 LEDs for the output. **Save**. \n",
    "\n",
    "\n",
    "* Now all that's left is to run the synthesis, implementation and bitstream generation processes. Double-click on **Generate Bitstream** and all the necessary processes will be carried out.\n",
    "\n",
    "\n",
    "* Connect the board to the PC using the USB cable and program the board. Check the circuit operation, as shown in the figure.\n",
    "\n",
    "<div>\n",
    "<img src=\"lab2/fig10.png\" width=\"900\"/>\n",
    "</div>\n",
    "\n",
    "\n",
    "* Close the *Hardware Manager* view in the blue ribbon and turn off the Basys3 using the on-board power switch.\n",
    "\n"
   ]
  },
  {
   "cell_type": "markdown",
   "id": "dd859c58",
   "metadata": {},
   "source": [
    "_________"
   ]
  },
  {
   "cell_type": "markdown",
   "id": "b902505a",
   "metadata": {},
   "source": [
    "## Challenge ##"
   ]
  },
  {
   "cell_type": "markdown",
   "id": "84a154db",
   "metadata": {},
   "source": [
    "Design a circuit that allows you to multiply two 4-bit numbers (represented in sign and magnitude). Note that a multiplication of two numbers can be decomposed into a series of sums of shifted numbers. For example:\n",
    "\n",
    "$$ 6 x 3 = (4 + 2) x 3 = (4 x 3) + (2 x 3 ) = (2^2 x 3) + (2^1 x 3 ) = $$\n",
    "\n",
    "=(number '3' shifted 2 positions to the left) + (number '3' shifted 1 position to the left)\n",
    "\n"
   ]
  }
 ],
 "metadata": {
  "kernelspec": {
   "display_name": "Python 3 (ipykernel)",
   "language": "python",
   "name": "python3"
  },
  "language_info": {
   "codemirror_mode": {
    "name": "ipython",
    "version": 3
   },
   "file_extension": ".py",
   "mimetype": "text/x-python",
   "name": "python",
   "nbconvert_exporter": "python",
   "pygments_lexer": "ipython3",
   "version": "3.11.5"
  }
 },
 "nbformat": 4,
 "nbformat_minor": 5
}
