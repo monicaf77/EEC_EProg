{
 "cells": [
  {
   "cell_type": "markdown",
   "metadata": {},
   "source": [
    "![figure](lab1/politecnico_h-01.png)\n",
    "\n",
    "# **Eletrónica Programável**\n",
    "#### Licenciatura em Engenharia Eletrotécnica e de Computadores\n",
    "\n",
    "## Trabalho Laboratorial - Introdução ao Vivado"
   ]
  },
  {
   "cell_type": "markdown",
   "metadata": {},
   "source": [
    "-----------------------\n"
   ]
  },
  {
   "cell_type": "markdown",
   "metadata": {
    "tags": []
   },
   "source": [
    "## Introdução ##\n",
    "Este laboratório é uma introdução ao Vivado ML, um IDE gratuito da Xilinx para desenvolvimento de projetos de hardware em FPGAs da série 7 e posteriores. Será ilustrado o desenho de um circuito simples em VHDL, que será testado em simulação e implementado numa placa de desenvolcimento, a Basys3.\n"
   ]
  },
  {
   "cell_type": "markdown",
   "metadata": {},
   "source": [
    "### Objetivos ###\n",
    "\n",
    "Após concluir este laboratório, você será capaz de:\n",
    "* Criar um projeto do Vivado visando uma FPGA específica\n",
    "* Desenhar um circuito simples usando o VHDL\n",
    "* Definir os pinos da placa de desenvolvimento aos quais serão atribuídas as entradas e saídas do circuito\n",
    "* Simular o funcionamento do circuito usando o simulador do Vivado\n",
    "* Sintetizar e implementar o circuito\n",
    "* Gerar o fluxo de bits (bitstream)\n",
    "* Configurar a FPGA usando o bitstream gerado e verificar a funcionalidade\n"
   ]
  },
  {
   "cell_type": "markdown",
   "metadata": {},
   "source": [
    "Nas instruções abaixo **{sources}** refere-se a `C:\\Xilinx\\EEC_EP\\sources` e **{labs}** refere-se a `(C:\\Xilinx\\EEC_EP\\labs)`\n"
   ]
  },
  {
   "cell_type": "markdown",
   "metadata": {},
   "source": [
    "### Antes de Começar ###\n",
    "\n",
    "O suporte de placa para a Basys 3 não está incluído no Vivado por omissão. Se está a usar os computadores do laboratório, navegue pela pasta de instalação do Vivado no computador até `C:\\Xilinx\\Vivado\\2022.1\\data\\boards\\board_files\\` e verifique se está lá uma basta de nome **basys3**. \n",
    "\n",
    "Se quiser usar o seu PC pessoal, siga as intruções de instalação e configuração disponibilizadas no **lab0**.\n"
   ]
  },
  {
   "cell_type": "markdown",
   "metadata": {},
   "source": [
    "### Referencias ###\n",
    "\n",
    "Pong P. Chu. 2008. FPGA Prototyping by VHDL Examples: Xilinx Spartan-3 Version. \n"
   ]
  },
  {
   "cell_type": "markdown",
   "metadata": {},
   "source": [
    "_______________________"
   ]
  },
  {
   "cell_type": "markdown",
   "metadata": {},
   "source": [
    "## Passo 1 - Criar um Projeto Vivado ##"
   ]
  },
  {
   "cell_type": "markdown",
   "metadata": {},
   "source": [
    "### Passo 1.1 ### \n",
    "\n",
    "Nesta seção vamos criar um projeto novo e vazio para a Placa Basys3 no Vivado 2022.1. Outras versões anteriores u posteriores poderão apresentar pequenas diferenças, mas pouco significativas.\n",
    "\n",
    "* Comece por descarregar os arquivos fonte fornecidos (Moodle) e salve-os em `{sources}/lab1`.\n",
    "\n",
    "\n",
    "* Abra o Vivado a partir do icon no ambinete de trabalho ou: `Start > All Programs > Xilinx Design Tools > Vivado 2022.1`. \n",
    "\n",
    "\n",
    "* Selecione **Create Project** para começar o wizard. Na caixa de diálogo *Create A New Vivado Project*, selecione **Next**.\n",
    "\n",
    "\n",
    "* Clique no botão *Procurar* do campo de localização do projeto do novo formulário de projeto, navegue até `c:/Xilinx/EEC_EP/labs` e clique em **Select**. Digite *lab1* no campo de nome do projeto. Certifique-se de que a caixa *Create Project Subdirectory* esteja marcada. Clique em **Next**.\n",
    "\n",
    "\n",
    "* Vamos criar um projeto RTL vazio. Especificaremos as fontes posteriormente. Selecione a opção **RTL Project** no formulário *Project Type* e clique em **Next**. Certifique-se de que a caixa *Do not specify sources at this time* está marcada.\n",
    "\n",
    "\n",
    "* No formulário **Default Part**, selecione a opção *Boards* e escolha a placa Basys3. Se não encontrar a placa, faça o download e instale os arquivos da placa, conforme explicado na seção *Antes de começar* deste notebook. Clique em **Next** e depois em **Finish** para criar o projeto Vivado.\n",
    "\n",
    "\n",
    "* Use o Windows Explorer e veja o diretório `{labs}\\lab1`. O Vivado cria automaticamente uma hierarquia de diretórios para este projeto, incluindo o arquivo de projeto **lab1.xpr** (Vivado). Como ainda não precisamos explorá-lo, siga para a próxima etapa."
   ]
  },
  {
   "cell_type": "markdown",
   "metadata": {},
   "source": [
    "### Passo 1.2 ### \n",
    "\n",
    "Nesta seção, vamos criar um circuito comparador muito simples.\n",
    "\n",
    "* No painel *Sources*, selecione **Add Sources** clicando no sinal **+** (veja a figura abaixo). Em seguida, selecione *Add or create design sources* e clique em **Next**.\n",
    "\n",
    "\n",
    "<div>\n",
    "<img src=\"lab1/fig1.png\" width=\"800\"/>\n",
    "</div>\n",
    "\n",
    "* Selecione *Create File*, escolha o tipo **VHDL** e o nome **eq1**. Clique em **OK**. Depois clique em **Finish**.\n",
    "\n",
    "<div>\n",
    "<img src=\"lab1/fig2.png\" width=\"800\"/>\n",
    "</div>\n",
    "\n",
    "* Na janela *Define Module* adicione duas entradas (i0, i1) e uma saída (eq) de um bit, tal como mostra a figura. Clique em **OK** e note que agora a fonte **eq1** já aparece na janela *Sources*, no separador *Design sources*.\n",
    "\n",
    "<div>\n",
    "<img src=\"lab1/fig3.png\" width=\"800\"/>\n",
    "</div>\n",
    "\n",
    "* Faça duplo clique no modulo **eq1** e complete o ficheiro de forma a definir um comparador de 1 bit, tal como mostra a figura. **Guarde** o ficheiro se não tiver erros (erros de sintaxe são assinalados com sublinhado a vermelho).\n",
    "\n",
    "<div>\n",
    "<img src=\"lab1/fig4.png\" width=\"800\"/>\n",
    "</div>\n",
    "\n",
    "* Repita os 4 passos anteriores para criar uma nova fonte chamada **eq2**, en VHDL. Este modulo será um comparador de 2 bits, implementado à custa de dois comparadores de 1 bit, definidos no módulo **eq1**. As entradas são agora barramentos de 2 bits, em que o 1º bit é o MSB. A figura mostra o que deve obter. Note que, na janela *Sources*, o módulo *eq2* é constituído por dois módulos *eq1*, tal como definiu no código.\n",
    "\n",
    "<div>\n",
    "<img src=\"lab1/fig5.png\" width=\"800\"/>\n",
    "</div>\n",
    "\n",
    "\n",
    "* Vamos agora adicionar o ficheiro com as restrições de localização. No painel *Sources*, selecione **Add Sources**, escolha agora *Add or create constraints* e clique em **Next**. Selecione *Add Files* e navegue até o diretório {sources}\\lab1, selecione *basys3_master.xdc*, clique em **OK** e depois em **Finish**.\n",
    "\n",
    "* No painel *Sources*, expanda a pasta *Constraints folder* e clique duas vezes na entrada `basys3_master.xdc` para abrir o arquivo em modo texto. Este arquivo **.xdc** atribui as localizações físicas de Entrada/Saída (I/O) na FPGA aos switches e LEDs localizados na placa. Este ficheiro tem todas as lihas comentadas. Mais tarde, poderemos ativas as linhas de que necessitarmos para definirmos os I/O do circuito.\n",
    "\n",
    "* Expanda a entrada *Open Elaborated Design* nas tarefas *RTL Analysis* do painel *Flow Navigator* e clique em **Schematic**. \n",
    "\n",
    "<div>\n",
    "<img src=\"lab1/fig6.png\" width=\"800\"/>\n",
    "</div>\n",
    "\n",
    "* O módulo será elaborado e uma visão lógica do projeto será exibida, conforme especificado no arquivo VHDL. Note que pode também expandir os módulos *eq1* e observar o seu interior ao nível RTL.\n",
    "\n",
    "<div>\n",
    "<img src=\"lab1/fig7.png\" width=\"800\"/>\n",
    "</div>\n",
    "\n",
    "\n",
    "* Feche a vista *Elaborated Design* na cruz **X** que se encontra no canto direito da barra azul clara. Feche também todos os ficheiros abertos na janela de tabalho (*Project Summary*, *eq1*, *eq2* e *basys3_master*)."
   ]
  },
  {
   "cell_type": "markdown",
   "metadata": {},
   "source": [
    "______"
   ]
  },
  {
   "cell_type": "markdown",
   "metadata": {},
   "source": [
    "## Passo 2 - Simule o Design usando o Simulador do Vivado ##"
   ]
  },
  {
   "cell_type": "markdown",
   "metadata": {},
   "source": [
    "### Passo 2.1 ### \n",
    "\n",
    "Nesta seção você adicionará ao projeto um ficheiro de estímulos, ao qual chamamos de testbench. Este ficheiro, aqui chamado de `lab1_tb.vhd`, permite verificar o correto funcionamento dos módulos projetados. Note que é adicionado um sufixo `tb` ao nome do ficheiro, para que se perceba que se trata de um testbech, para testar o funcionamento do módulo *eq2*.\n",
    "\n",
    "* Clique em **Add Sources** no painel *Sources* ou nas tarefas do *Project Manager* do painel *Flow Navigator*. Selecione a opção *Add or Create Simulation Sources* e clique em **Next**.\n",
    "\n",
    "\n",
    "* Selecione **Add Files** e navegue até a pasta `{sources}\\lab1`. Selecione `eq2_tb.vhd` e clique em **OK**. Clique em **Finish**.\n",
    "\n",
    "\n",
    "* Use o Windows Explorer para verificar que a directoria `{labs}/lab1` inclui a directoria **lab1.srcs** que inclui pastas com todos os ficheiros produzidos ou adicionados até agora: os circuitos fonte em VHDL na pasta *sources* (`eq1.vhd` e `eq2.vhd`), o testbench (`eq2_tb.vhd`) na pasta de *simulation*, e o arquivo de restrições (`basys3_master.xdc`) na pasta de *constraints*.\n",
    "\n",
    "\n",
    "* No Vivado, expanda o grupo *Simulation Sources* no painel *Sources* . Note que ficheiro `eq2_tb.vhd` aparece aqui em primeiro nível e que o módulo `eq2.vhd` é colocado automaticamente na sua hierarquia como uma instância **UUT** (*unit under test*), ou seja, dispositivo em teste.\n",
    "\n",
    "* Clique duas vezes no `eq2_tb.vhd` para ver seu conteúdo. A definição do módulo testbench começa na linha 35 e não possui portas de entrada ou saída (é um testbench!). A linha 42 define o componente UUT (módulo em teste), dentro da arquitectura do *testbench*.\n"
   ]
  },
  {
   "cell_type": "markdown",
   "metadata": {},
   "source": [
    "### Passo 2.2 ### \n",
    "\n",
    "Nesta seção você simulará o o circuito durante 1400ns usando o simulador do Vivado, inspecionará os resultados e os sinais de nível inferior.\n",
    "\n",
    "* Selecione *Settings* nas tarefas do *Project Manager* do painel *Flow Navigator*. Um formulário de configurações do projeto será exibido. Selecione o formulário de propriedades *Simulation* e defina o valor *Simulation Run Time* para **1400ns** no separado *Simulation*. Clique **OK**.\n",
    "\n",
    "\n",
    "* Clique em **Run Simulation** nas tarefas do *Project Manager* do painel *Flow Navigator*. Os ficheiro testbench e fonte serão compilados e o simulador Vivado será executado numa simulação comportamental (Behavioral), supondo que não há erros. Você verá uma janela de saída do simulador. Clique no botão **Zoom Fit** e você verá uma saída semelhante à mostrada na figura abaixo.\n",
    "\n",
    "<div>\n",
    "<img src=\"lab1/fig8.png\" width=\"800\"/>\n",
    "</div>\n",
    "\n",
    "* Na vista *Simulation* há quatro janelas principais: **Scope**, onde a hierarquia do testbench é exibida; **Objects**, onde os sinais de nível superior são exibidos; **Waveform window**, onde as formas de onda simuladas são exibidas; e o **Tcl Console**, em baixo, onde as atividades de simulação são exibidas. \n",
    "\n",
    "\n",
    "* Selecione **test_in0[1:0]** na janela da forma de onda, clique com o botão direito do mouse, selecione *Radix* e, em seguida, selecione *Binary*, se quiser ver cada bit da entrada. Faça o mesmo para a entrada **test_in1[1:0]**. Observe que ao mudar o *Radix* pode ver os barrammentos em binário ou outros formato (e.g.,decimal com ou sem sinal, em hexadecimal, etc.)\n",
    "\n",
    "\n",
    "* Observe também que uma pasta `lab1.sim` foi criado sob o diretório `{labs}/lab1`, junto com várias pastas de nível inferior.\n",
    "\n",
    "\n",
    "* Expanda a instância *eq2_tb* na janela *Scope* e selecione a instância *uut*. Note que esta instância é composta por duas unidades de comparação de 1 bit (como esperávamos). Note que na janela *Objects* aparecem os sinais internos do módulo, *a[1:0]*, *b[1:0]* e *aeqb*. Selecione e arraste-os para a janela de forma de onda e note que são os mesmos do testbench.\n",
    "\n",
    "\n",
    "* Selecione agora a primeira unidade *eq_bit0_unit* na janela *Scope*. Selecione os sinais internos (i0, i1 e eq) do módulo na janela *Objects* e arraste-os para a janela de forma de onda. Note que o sinal eq não tem onda associada, por ser um sinal totalmente interno. No entanto,pode sempre correr novamente a simulação para observar este tipo de sinais. Basta fazer **Restart** e depois **Run All**.\n",
    "\n",
    "<div>\n",
    "<img src=\"lab1/fig9.png\" width=\"600\"/>\n",
    "</div>\n",
    "\n",
    "* Na barra de opções dos botões da ferramenta do simulador, digite **300** no campo *simulation run time*, clique no botão suspenso do campo de unidades e selecione **ns**, pois agora queremos executar para 300ns. Clique no botão **Restart** e depois no botão **Run for 300ns**. Note que os estimulos definidos no ficheiro `eq2_tb` são aplicado sequencialmente até ao final do tempo.\n",
    "\n",
    "\n",
    "* Feche o simulador clicando no **X** que aparece no canto dreito da faixa azul que identifica a vista de *Simulation*. Clique em **OK** e depois clique em **Discard** para fechar sem guardar a forma de onda.\n",
    "\n"
   ]
  },
  {
   "cell_type": "markdown",
   "metadata": {},
   "source": [
    "______________"
   ]
  },
  {
   "cell_type": "markdown",
   "metadata": {},
   "source": [
    "## Passo 3 - Crie um esquemático (Block Design) com Módulos de Propriedade Intelectual (IP cores) ##"
   ]
  },
  {
   "cell_type": "markdown",
   "metadata": {},
   "source": [
    "### Passo 3.1 ### \n",
    "\n",
    "Vamos agora criar um projeto de bloco de nível superior, que incluirá nosso comparador de dois bits e dois módulos IP disponíveis na biblioteca do Vivado: **Clocking wizard** - este módulo recebe um sinal de relógio de 100MHz (sysclk), referência esterna à FPGA (gerado por oscilador presente na placa basys3), e vai gerar um sinal de relógio interno a 10MHz; e **VIO (Virtual Input/Output)** - este módulo permite capturar e gerar sinais no vivado.\n",
    "\n",
    "\n",
    "* No *Flow Navigator*, expanda *IP Integrator* e selecione o comando **Create Block Design**. Na caixa de diálogo, especifique o nome **top_lab1** no campo *Design name* e clique em **OK**.\n",
    "\n",
    "\n",
    "* O Vivado IDE exibirá uma janela *Diagram* em branco. Para adicionar IPs do Catálogo de IPs, clique com o botão direito do rato na janela *Diagram* e escolha a opção **Add IP** (também pode clicar no botão **+** que aparece no centro da janela). Procure cada um dos módulos IP (**Clocking wizard** e **VIO**) e faça duplo clique para os adicionar (um de cada vez).\n",
    "\n",
    "\n",
    "* Faça duplo clique no módulo *clk_wiz_0* para abrir sua janela de configuração. Selecione o separador *Clocking Options* e verifique se a frequência do relógio de entrada primário está como **100MHz**. Deixe todas as outras configurações como padrão. No separador *Output Clocks*, certifique-se de que a frequência do relógio de saída (clk_out1) está configurado para **10MHz**. Em seguida, clique em **OK** para personalizar o módulo.\n",
    "\n",
    "\n",
    "* Faça duplo clique no módulo *vio_0* para abrir sua janela de configuração. Na guia *General Options*, deixaremos o *default*, pois queremos usar uma sonda de entrada e uma sonda de saída. Para configurar a largura dessas sondas vá ao separador *PROBE_IN PORTS* e ao separador *PROBE_OUT PORTS* e configure a entrada para **4 bits** e a saída para **6 bits**. Clique **OK**.\n",
    "\n",
    "\n",
    "* No painel *Sources*, selecione a *source* `eq2.vhd` e arraste-a para o diagrama. Isso adicionará o módulo **eq2** ao esquemático como um IP RTL.\n",
    "\n",
    "\n",
    "* Faça *Save Block Design* e verifique se tem algo como mostra a figura:\n",
    "\n",
    "<div>\n",
    "<img src=\"lab1/fig10.png\" width=\"800\"/>\n",
    "</div>"
   ]
  },
  {
   "cell_type": "markdown",
   "metadata": {},
   "source": [
    "### Passo 3.2 ### \n",
    "\n",
    "Vamos interconectar os módulos e adicionar portas de entrada e saída.\n",
    "\n",
    "* Neste ponto você pode ver que o *Designer Assistance* está disponível. Clique em **Run Connection Automation**. Selecione tudo (All Automation) e clique em **OK**. O Vivado fará as conexões genéricas, mas não todas (não pode adivinhar como quer definir o seu circuito!).\n",
    "\n",
    "\n",
    "* Crie algumas novas portas de I/O para o circuito. Para fazer isso, clique com o botão direito do rato na entrada **a** do módulo *eq2_0* e selecione **Create port** e deixe os *defaults*. Repita o mesmo procedimento para a entrada **b** e para a saída **aeqb**.\n",
    "\n",
    "\n",
    "* Agora queremos conectar os botões da basys3 e alguns leds ao módulo *vio_0*. Para fazer isso, repita a etapa anterior para criar uma porta chamada **btn** conectada ao **probe_in0** e uma porta chamada **led** conectada ao **probe_out0**.\n",
    "\n",
    "\n",
    "* Na barra de ferramentas do diagrama, encontre o botão **Validate Design**. A validação deve ser bem sucedida. Depois disso, carregue no botão **Regenerate Layout** para garantir que o diagrama fica bonito e organizado. Use o comando `File -> Save Block Design` no menu principal para guardar o desenho.\n",
    "\n",
    "    \n",
    "* Modifique agora o arquivo **.xdc** retirando os comentários nas linhas 7 e 8 (relativas à entrada do relógio), as linhas 12 a 15 (relativas a quatro interruptores), as linhas 31 a 36 (relativas aos leds de saída do VIO), a linha 46 para o led do comparador, a linha 67 (para o botão de reset), e as linhas 68 a 71 (relativas a 4 botões). \n",
    "\n",
    "\n",
    "* Altere agora os nomes das portas de acordo com os usados no *Block Design* e **guarde** o ficheiro. Deve ficar com algo como mostra a figura.\n",
    "\n",
    "\n",
    "<div>\n",
    "<img src=\"lab1/fig12.png\" width=\"500\"/>\n",
    "</div>\n",
    "\n",
    "\n",
    "* Clique com o botão direito do mouse na fonte `top_lab1.bd` no painel *Sources* e selecione **Create HDL Wrapper**. Clique em **OK** para permitir que o Vivado gerencie o wrapper e a atualização automática. Esta etapa é obrigatória porque o módulo superior deve ser sempre um arquivo HDL.\n",
    "\n",
    "\n",
    "* Clique com o botão direito do rato no modulo **top_lab1_wrapper** (janela de *Sources*) e escolha **Set as Top Module**. O resultado final deve ser algo como se mostra na figura:\n",
    "\n",
    "<div>\n",
    "<img src=\"lab1/fig11.png\" width=\"900\"/>\n",
    "</div>\n",
    "\n",
    "\n",
    "\n",
    "* Por fim, em *IP Integrator*, clique em **Generate Block Design**. A opção *Out of context per IP* pode reduzir significativamente os tempos de execução de síntese porque o cache de IP pode ser usado com esta opção para evitar que a síntese Vivado regenere produtos de saída para IP específico se eles não forem alterados. Use o maior número possível de trabalhos, dependendo de quantos núcleos sua máquina tem disponível e clique em **Generate**.\n",
    "\n",
    "\n",
    "* Este modo cria uma execução de síntese fora de contexto (OOC) e um arquivo de ponto de verificação de projeto (DCP) para cada IP instanciado no projeto. Observe que o separador **Design Runs** (em baixo) lista as execuções do módulo OCC de síntese para cada IP usado no Block Design.\n",
    "\n",
    "\n",
    "<div class=\"alert alert-block alert-info\">\n",
    "<b>Note:</b> A geração dos produtos de saída individuais no modo OOC por IP leva mais tempo do que uma única execução de síntese global; no entanto, as melhorias de tempo de execução são efetivadas em execuções subsequentes porque apenas os blocos ou IP atualizados são re-sintetizados em vez de todo o design de nível superior. Além disso, com o Cache de IP habilitado (pode alterar as configurações do cache de IP na caixa de diálogo Configurações > IP), a síntese do Vivado pode fornecer melhorias de tempo de execução ainda maiores porque o único IP para re-sintetizar foi re-personalizado ou foi impactado de propagação de parâmetros.\n",
    "</div>\n",
    "\n",
    "\n",
    "<div class=\"alert alert-block alert-danger\">\n",
    "<b>Note:</b> Feche o **Block Design** na cruz da barra azul antes de continuar. Sempre que você alterar uma etapa no fluxo de design, feche a visualização anterior e volte para a vista de **Project Manager** (na barra azul).\n",
    "</div>\n"
   ]
  },
  {
   "cell_type": "markdown",
   "metadata": {},
   "source": [
    "_______"
   ]
  },
  {
   "cell_type": "markdown",
   "metadata": {},
   "source": [
    "## Passo 4 - Sintetize, Implemente e Teste o seu circuito ##"
   ]
  },
  {
   "cell_type": "markdown",
   "metadata": {},
   "source": [
    "### Passo 4.1###\n",
    "\n",
    "\n",
    "Agora sintetizaremos o projeto com a ferramenta de síntese Vivado e analisaremos a saída do Resumo do Projeto. .\n",
    "\n",
    "* Clique em *Settings* no painel *Flow Navigator* e selecione *Synthesis*. Certifique-se de que *flatten_hierarchy* esteja definido como **rebuilt**, o que permite que a hierarquia de design seja nivelada para síntese e depois reconstruída. Isso é mais útil para análise de projeto porque muitas referências lógicas serão mantidas. Inspecione outras opções para ver o que está disponível e observe que há muitas estratégias de síntese disponíveis no menu *Strategy*. Clique **OK**.\n",
    "\n",
    "\n",
    "* Sintetize seu projeto selecionando a opção **Run Synthesis** no *Flow Navigator*. Clique **OK**. O processo de síntese será executado no `top_lab1_wrapper.vhd` e em todos os seus arquivos hierárquicos. Quando o processo estiver concluído, uma caixa de diálogo *Síntese Concluída* com três opções será exibida.\n",
    "\n",
    "\n",
    "* Quando terminar, selecione *Open Synthesized design*, clique em **OK**, pois queremos ver a saída da síntese. Clique em *Yes* para fechar o desenho elaborado se a caixa de diálogo for exibida. Abra o esquema e observe que agora ele inclui buffers de entrada e saída, adicionados automaticamente durante o processo de síntese. Observe também que o **esquemático** mostra a mesma hierarquia definida no projeto, mas as portas lógicas comportamentais no módulo *eq2* agora são representadas por FPGA LUTs.\n",
    "\n",
    "\n",
    "* Feche o **Synthesized Design** na faixa azul e volte para a vista do **Gerenciador de Projetos**.\n",
    "\n",
    "\n",
    "* Clique no ícone **Project Summary** no menu principal (símbolo $\\Sigma$). Se você não vir o separador *Project Summary*, selecione `Layout > Layout padrão` e clique no ícone novamente. Verifique a informação disponível, nomeadamente no que diz respeito à Utilização da FPGA.\n",
    "\n",
    "<div class=\"alert alert-block alert-danger\">\n",
    "<b>Note:</b> Por vezes a síntese dá o seguinte erro:\n",
    "'ERROR: [Common 17-354] Could not open 'C' for writing.' 'ERROR: [Common 17-356] Failed to install all user apps.' Neste caso basta ir à janela 'Sources', clicar com o botão direito do rato em cima do ficheiro *.bd (block design), escolher 'Reset Output Products' e depois 'Generate Output Products', antes de correr a síntese novamente. \n",
    "</div>\n"
   ]
  },
  {
   "cell_type": "markdown",
   "metadata": {},
   "source": [
    "### Passo 4.2###\n",
    "\n",
    "Vamos agora implementar o design com a ferramenta de implementação Vivado e analisar a saída do Resumo do Projeto. \n",
    "\n",
    "\n",
    "* Implemente o projeto selecionando a opção **Run Implementation** no *Flow Navigator*. Quando a implementação estiver concluída, uma caixa de diálogo aparecerá com três opções. Selecione a opção *Open Implemented Design* e clique em **OK**.\n",
    "\n",
    "\n",
    "* Verifique as informações disponíveis no que diz respeito à Utilização do FPGA selecionando *Open Implemented Design > Report Utilization*. Quando a caixa de diálogo *Report Utilization* for aberta, clique em **OK**. O relatório de utilização é exibido na parte inferior do Vivado IDE. Você pode selecionar qualquer um dos recursos à esquerda para visualizar sua utilização correspondente. Observe que o relatório de utilização pode ser inferior à estimativa fornecida após a síntese.\n",
    "\n",
    "\n",
    "* Feche o **Implemented Design** na barra azul e volte para a vista **Project Manager**.\n",
    "\n",
    "\n",
    "<div class=\"alert alert-block alert-danger\">\n",
    "<b>Note:</b> É uma boa prática de projeto fechar a visualização atual antes de prosseguir para uma nova etapa no fluxo de projeto. Portanto, certifique-se de estar na visualização **Project Manager** ao escolher um processo de projeto/implementação diferente.\n",
    "</div>\n",
    "\n",
    "\n",
    "* Gere o ficheiro de programação com a opção **Generate Bitstream** no *Flow Navigator* e clique em **OK**.\n",
    "\n",
    "\n",
    "* Quando a geração do bitstream estiver concluída, clique em **Cancel** para evitar abrir o projeto implementado ou o gerenciador de hardware (*hardware manager*). Vamos fazer isso no passo seguinte mas temos de ligar a placa primeiro."
   ]
  },
  {
   "cell_type": "markdown",
   "metadata": {},
   "source": [
    "### Passo 4.3###\n",
    "\n",
    "Vamos agora conectar a placa e ligá-la. Abra uma sessão de hardware e programe a FPGA.\n",
    "\n",
    "\n",
    "* Certifique-se de que o cabo micro-USB esteja conectado ao PC e que o jumper **Programming Mode** (próximo ao conector de entrada HDMI) esteja definido como **JTAG**. Ligue a placa.\n",
    "\n",
    "\n",
    "* Selecione a opção *Open Hardware Manager* na tarefa *Program and Debug* do *Flow Navigator* e clique em **OK**. A janela *Hardware Manager* será aberta indicando o status *unconnected* na faixa azul.\n",
    "\n",
    "\n",
    "* Clique no link **Open target** e em **Auto Connect** no menu suspenso. O status de *Hardware Session* muda de desconectado para o nome do servidor e o status do dispositivo indica que ele não está programado (*not programmed*).\n",
    "\n",
    "\n",
    "* Selecione o dispositivo (**xc7a35t**) e observe a janela *Hardware Device Properties*. Verifique se o `top_lab1_wrapper.bit` está selecionado como o *Programming file* no separador *General* e se também está definido o *Probes files* correspondente `top_lab1_wrapper.ltx`. \n",
    "\n",
    "\n",
    "* Seleccione **Program device** na faixa verde e clique **Program**. \n",
    "\n",
    "\n",
    "* Uma nova janela em branco **hw_vios_1** é aberta. Clique no sinal **+** e adicione todas as sondas. Clique **OK**. Defina todos os bits da porta de saída a serem controlados como botões de alternância (*toggle buttons*).\n",
    "\n",
    "\n",
    "* Finalmente, teste pressionando alguns botões/interruptores a bordo e veja como as sondas de entrada e o status do led mudam. Também alterne alguns botões no VIO para controlar os leds RGB integrados. Verifique se o design funciona como esperado. **Divirta-se!**\n",
    "\n",
    "\n",
    "<div class=\"alert alert-block alert-danger\">\n",
    "<b>Note:</b> Feche a janela **hw_vio_1** e feche o *Hardware Manager* na cruz da fita azul antes de desligar a placa.\n",
    "</div>\n"
   ]
  },
  {
   "cell_type": "markdown",
   "metadata": {},
   "source": [
    "_________"
   ]
  },
  {
   "cell_type": "markdown",
   "metadata": {},
   "source": [
    "## Desafio ##"
   ]
  },
  {
   "cell_type": "markdown",
   "metadata": {},
   "source": [
    "Altere o projeto `lab1` atual para incluir um módulo comparador de 4 bits, implementado à custa de dois comparadores de 2 bits. Faça uma simulação para verificar o funcionamento do circuito e implemente na placa.\n",
    "\n",
    "\n"
   ]
  }
 ],
 "metadata": {
  "kernelspec": {
   "display_name": "Python 2",
   "language": "python",
   "name": "python2"
  },
  "language_info": {
   "codemirror_mode": {
    "name": "ipython",
    "version": 2
   },
   "file_extension": ".py",
   "mimetype": "text/x-python",
   "name": "python",
   "nbconvert_exporter": "python",
   "pygments_lexer": "ipython2",
   "version": "2.7.16"
  }
 },
 "nbformat": 4,
 "nbformat_minor": 5
}
